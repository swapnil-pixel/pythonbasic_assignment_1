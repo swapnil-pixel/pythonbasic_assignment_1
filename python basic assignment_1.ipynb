{
 "cells": [
  {
   "cell_type": "markdown",
   "metadata": {},
   "source": [
    "# python basics assignment_1"
   ]
  },
  {
   "cell_type": "raw",
   "metadata": {},
   "source": [
    "1. Which are values and which are operators?\n",
    "\n",
    "\n",
    "*\n",
    "'hello'\n",
    "-87.8\n",
    "-\n",
    "/\n",
    "+\n",
    "6"
   ]
  },
  {
   "cell_type": "markdown",
   "metadata": {},
   "source": [
    "\n"
   ]
  },
  {
   "cell_type": "markdown",
   "metadata": {},
   "source": [
    "Answer :\n",
    "\n",
    "operators : * , - , / , +  \n",
    "\n",
    "values : 'hello' , -87.8 , 6"
   ]
  },
  {
   "cell_type": "raw",
   "metadata": {},
   "source": [
    "2. What is the difference between string and variable?\n",
    "spam\n",
    "'spam'\n"
   ]
  },
  {
   "cell_type": "markdown",
   "metadata": {},
   "source": [
    "Answer :\n",
    "\n",
    "String  :  as given in the question 'spam' is a string . String is data type and it can be written in \" \" or ' ' .\n",
    "\n",
    "variable : as given in question spam is variable . variable is a container which stores the data values."
   ]
  },
  {
   "cell_type": "raw",
   "metadata": {},
   "source": [
    "3. Describe three different data types."
   ]
  },
  {
   "cell_type": "markdown",
   "metadata": {},
   "source": [
    "\n",
    "\n",
    "Answer :\n",
    "\n",
    "1. int :  \n",
    "           1)  It is a data type which can allows positive , negative and whole numbers without decimals.\n",
    "           \n",
    "           2)  ex. -2 , 34 , -33333 etc.\n",
    "\n",
    "2. float : \n",
    "           1) float is a data type which can allows positive , negative and whole numbers with decimals and withot decimals\n",
    "            \n",
    "           2) ex. 23.3 , -34.7 etc.\n",
    "\n",
    "4. boolean :  \n",
    "             1) It is a data type which have the two possible values True and False and it is used to show the truth value.\n",
    "              \n",
    "             2) ex. 1. print(2>3) then it print True\n",
    "                 ex. 2. print(2<3) then it print False\n",
    "                     \n",
    "                     \n",
    "5. complex number :  \n",
    "                      1) It is represented by the complex class and is contain real part + (imaginary part)j.\n",
    "                      \n",
    "                      2) ex. 3+4j \n",
    "\n",
    "\n",
    "\n",
    "3. String : \n",
    "            1)  String is a collaction of one or more characters but it should be writeen in \" \" or' '. \n",
    "           \n",
    "            2)  It can be denoted by class str.\n",
    "            \n",
    "            3)  It support indexing.\n",
    "           \n",
    "            4)  ex.  \n",
    "\n",
    "\n",
    "6. list : \n",
    "           1) list is collection data type which allows heterogineus and homogineus elements \n",
    "          \n",
    "           2) The elements should be passed in square bracket [].\n",
    "          \n",
    "           3) And the list elements are mutables.\n",
    "          \n",
    "           4) It is represented by class list.\n",
    "           \n",
    "\n",
    "\n",
    "7. tuple : \n",
    "            1)  Tuple is collection data type which allows heterogineus and homogineus elements.\n",
    "            \n",
    "            2)  We can pass the elements in parentheses or withot parentheses.\n",
    "           \n",
    "            3)  The elements of tuple are immutable.\n",
    "            \n",
    "            4)  It is represented by class tuple.\n",
    "\n",
    "\n",
    "8. set  :  \n",
    "           1)  Set is the collaction data type which allows heterogineus and homogineus elements. \n",
    "           \n",
    "           2)  The set elements are immutable.\n",
    "           \n",
    "           3) It does not support indexing.\n",
    "           \n",
    "           4) It is represented by the class set.\n",
    "           \n",
    "\n",
    "9. dictionary  :  \n",
    "                  1) dictionary is a collaction data type which aloows key and value . \n",
    "                  \n",
    "                  2) In dictionary the keys are immutable and the values are mutable.\n",
    "                  \n",
    "                  3) dictionary support the indexing.\n",
    "                  \n",
    "                  4) ex . d = {\"key\" : value}.\n",
    "                  \n",
    "                     ex . d2 = {\"name\" : \"swapnil\" , \"id\" : 101}.\n",
    "                     \n",
    "\n"
   ]
  },
  {
   "cell_type": "raw",
   "metadata": {},
   "source": [
    "4. What is an expression made up of? What do all expressions do?"
   ]
  },
  {
   "cell_type": "markdown",
   "metadata": {},
   "source": [
    "\n",
    "\n",
    "Answer :\n",
    "        1) The expressions are made up of the combination of values and operators.\n",
    "        \n",
    "        2) The expession needed to be evaluated.\n",
    "        \n",
    "        3) The expression is always evaluated a single value.\n",
    "       \n",
    "        4) ex . print(3+5)\n",
    "        \n",
    "        \n",
    "        \n",
    "        \n",
    "        \n"
   ]
  },
  {
   "cell_type": "raw",
   "metadata": {},
   "source": [
    "5. This assignment statements, like spam = 10. What is the difference between an expression and a statement?"
   ]
  },
  {
   "cell_type": "markdown",
   "metadata": {},
   "source": [
    "\n",
    "\n",
    "Answer : \n",
    "                             \n",
    "          In this question the spam = 10 is a statement . \n",
    "          \n",
    "          The expression is evaluate the value where the statements does not evaluate values \n",
    "          \n",
    "          but as we write print(spam) then this is called as expression and it evaluate value 10."
   ]
  },
  {
   "cell_type": "raw",
   "metadata": {},
   "source": [
    "6. After running the following code, what does the variable bacon contain?\n",
    "    \n",
    "   \n",
    "   bacon = 22\n",
    "    \n",
    "    \n",
    "   bacon + 1"
   ]
  },
  {
   "cell_type": "markdown",
   "metadata": {},
   "source": [
    "Answer :            \n",
    "         \n",
    "         After running this code the variable bacon still contail the value 22 because we only increament the bacon not                  assining the value . For assining the value we have to write bacon = bacon +1\n",
    "            \n"
   ]
  },
  {
   "cell_type": "raw",
   "metadata": {},
   "source": [
    "7. What should the values of the following two terms be?\n",
    "\n",
    "'spam' + 'spamspam'\n",
    "\n",
    "'spam' * 3"
   ]
  },
  {
   "cell_type": "markdown",
   "metadata": {},
   "source": [
    "Answer : \n",
    "          \n",
    "          Both the output are same.\n",
    "\n",
    "          the value of 'spam' + 'spamspam' is  'spamspamspam'.\n",
    "          \n",
    "          the value of 'spam' *3  is 'spamspamspam'.\n",
    "          \n",
    "          \n",
    "           \n",
    "         "
   ]
  },
  {
   "cell_type": "raw",
   "metadata": {},
   "source": [
    "8. Why is eggs a valid variable name while 100 is invalid ?"
   ]
  },
  {
   "cell_type": "markdown",
   "metadata": {},
   "source": [
    "Answer : \n",
    "\n",
    "         There are some rules for the declaretion of varible so according to the rule -\n",
    "         \n",
    "         1) The variable name must starts with letter or underscore.\n",
    "         \n",
    "         2) A variable name cant srarts with number .\n",
    "         \n",
    "         Therefore the name eggs a valid variable while 100 is invalid"
   ]
  },
  {
   "cell_type": "raw",
   "metadata": {},
   "source": [
    "9. What three functions can be used to get the integer, floating-point number, or string version of a value?"
   ]
  },
  {
   "cell_type": "markdown",
   "metadata": {},
   "source": [
    "Answer : \n",
    "         \n",
    "         int() , float() ,str() these three functions are used.\n",
    "         \n",
    "         1) int() is used to get integer version value.\n",
    "         2) float() is used to get floating-point number version value.\n",
    "         3) str() is used to get string version value.\n",
    "         "
   ]
  },
  {
   "cell_type": "raw",
   "metadata": {},
   "source": [
    "10. Why does this expression cause an error? How can you fix it?\n",
    "\n",
    "'I have eaten ' + 99 + ' burritos.'\n"
   ]
  },
  {
   "cell_type": "markdown",
   "metadata": {},
   "source": [
    "Answer: \n",
    "\n",
    "        The given statement is  'I have eaten ' + 99 + ' burritos.'\n",
    "        \n",
    "        This function cause the TypeError because of we cant concat str and int together only concatinate the str to str so if   we want to fix this error then we have to write 99 in single or double cout  as '99' then we not get any Error.\n",
    "        \n",
    "        Correct statement is : 'I have eaten ' + '99' + ' burritos.' then we get  : I have eaten 99 burritos.\n",
    "        \n",
    "       \n",
    "        \n",
    "        \n",
    "\n",
    "        "
   ]
  }
 ],
 "metadata": {
  "kernelspec": {
   "display_name": "Python 3",
   "language": "python",
   "name": "python3"
  },
  "language_info": {
   "codemirror_mode": {
    "name": "ipython",
    "version": 3
   },
   "file_extension": ".py",
   "mimetype": "text/x-python",
   "name": "python",
   "nbconvert_exporter": "python",
   "pygments_lexer": "ipython3",
   "version": "3.8.5"
  }
 },
 "nbformat": 4,
 "nbformat_minor": 4
}
