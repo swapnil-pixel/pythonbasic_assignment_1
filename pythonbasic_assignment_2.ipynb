{
 "cells": [
  {
   "cell_type": "markdown",
   "metadata": {},
   "source": [
    "# python basics assignment 2\n"
   ]
  },
  {
   "cell_type": "raw",
   "metadata": {},
   "source": [
    "1.What are the two values of the Boolean data type? How do you write them?"
   ]
  },
  {
   "cell_type": "markdown",
   "metadata": {},
   "source": [
    "Answer :\n",
    "\n",
    "        True and False are the two values of Boolean data type. We can write them using capital T and capital F.\n",
    "        \n",
    "        ex . True , False."
   ]
  },
  {
   "cell_type": "raw",
   "metadata": {},
   "source": [
    "2. What are the three different types of Boolean operators?"
   ]
  },
  {
   "cell_type": "markdown",
   "metadata": {},
   "source": [
    "Answer :\n",
    "         \n",
    "        and , or , not  are the three types of Boolean operators."
   ]
  },
  {
   "cell_type": "raw",
   "metadata": {},
   "source": [
    "3. Make a list of each Boolean operator's truth tables (i.e. every possible combination of Boolean values for the operator and what it evaluate )."
   ]
  },
  {
   "cell_type": "markdown",
   "metadata": {},
   "source": [
    "Answer :\n",
    "\n",
    "      1) and \n",
    "       \n",
    "        True and True is True.\n",
    "\n",
    "        True and False is False.\n",
    "\n",
    "        False and True is False.\n",
    "\n",
    "        False and False is False.\n",
    "     \n",
    "     2) or :\n",
    "     \n",
    "        True or True is True.\n",
    "\n",
    "        True or False is True.\n",
    "\n",
    "        False or True is True.\n",
    "\n",
    "        False or False is False.\n",
    "     \n",
    "     3) not\n",
    "      \n",
    "       not True is False.\n",
    "\n",
    "       not False is True."
   ]
  },
  {
   "cell_type": "raw",
   "metadata": {},
   "source": [
    "4. What are the values of the following expressions?\n",
    "\n",
    "(5 > 4) and (3 == 5)\n",
    "\n",
    "not (5 > 4)\n",
    "\n",
    "(5 > 4) or (3 == 5)\n",
    "\n",
    "not ((5 > 4) or (3 == 5))\n",
    "\n",
    "(True and True) and (True == False)\n",
    "\n",
    "(not False) or (not True)\n"
   ]
  },
  {
   "cell_type": "markdown",
   "metadata": {},
   "source": [
    "Answer :\n",
    "         \n",
    "      1) (5 > 4) and (3 == 5)\n",
    "        \n",
    "       - value = False\n",
    "        \n",
    "      2) not (5 > 4)                            \n",
    "       \n",
    "       - value = Fasle\n",
    "       \n",
    "      3) (5 > 4) or (3 == 5)\n",
    "       \n",
    "       - value = True \n",
    "       \n",
    "      4) not ((5 > 4) or (3 == 5))\n",
    "       \n",
    "       - value = False\n",
    "       \n",
    "      5) (True and True) and (True == False)\n",
    "       \n",
    "       - value = False\n",
    "       \n",
    "      6) (not False) or (not True)\n",
    "       \n",
    "        - value = True\n",
    "        \n",
    "        "
   ]
  },
  {
   "cell_type": "raw",
   "metadata": {},
   "source": [
    "5. What are the six comparison operators?"
   ]
  },
  {
   "cell_type": "markdown",
   "metadata": {},
   "source": [
    "Answer :\n",
    "\n",
    "        < , > , <= , >= , == , !=  are the six comprison operators."
   ]
  },
  {
   "cell_type": "raw",
   "metadata": {},
   "source": [
    "6. How do you tell the difference between the equal to and assignment operators?Describe a condition and when you would use one."
   ]
  },
  {
   "cell_type": "markdown",
   "metadata": {},
   "source": [
    "Answer :\n",
    "\n",
    "         The equal to operation is represented by == and it is used to compare two values and evaluate the Boolean result.\n",
    "         \n",
    "         The assignment operator is represented by = and it is used to assign value in variable.\n",
    "         \n",
    "         lets take a simple condition :\n",
    "         \n",
    "       a = 10    # here we use assignment operator = because we have to assign value 10 in variable a.\n",
    "\n",
    "       b = 10    # here we use assignment operator = because we have to assign value 10 in variable b.\n",
    "\n",
    "       print(a == b)  # here we use comparison operator == because we have to compare both the variable a and b.\n",
    "        \n",
    "       o/p = True  # we get True Boolean value because both the variable contain same value.\n",
    "         "
   ]
  },
  {
   "cell_type": "raw",
   "metadata": {},
   "source": [
    "7. Identify the three blocks in this code:\n",
    "\n",
    "spam = 0\n",
    "if spam == 10:\n",
    "print('eggs')\n",
    "if spam > 5:\n",
    "print('bacon')\n",
    "else:\n",
    "print('ham')\n",
    "print('spam')\n",
    "print('spam')\n",
    "\n",
    "\n",
    "\n"
   ]
  },
  {
   "cell_type": "markdown",
   "metadata": {},
   "source": [
    "Answer :  \n",
    "\n",
    "         the three blocks are in if statements and print('bacon) and print('ham) \n",
    "\n",
    "        print('eggs')         # block 1\n",
    "        if spam > 5:\n",
    "            print('bacon')    # block 2\n",
    "        else:\n",
    "            print('ham')      # block 3\n",
    "        print('spam')\n",
    "\n",
    "\n"
   ]
  },
  {
   "cell_type": "raw",
   "metadata": {},
   "source": [
    "8. Write code that prints Hello if 1 is stored in spam, prints Howdy if 2 is stored in spam, and prints Greetings! if anything else is stored in spam."
   ]
  },
  {
   "cell_type": "markdown",
   "metadata": {},
   "source": [
    "Answer :\n",
    "        \n",
    "        if spam == 1:\n",
    "            \n",
    "            print(\"Hello\")\n",
    "            \n",
    "        elif spam == 2:\n",
    "            \n",
    "            print(\"Howdy\")\n",
    "        else :\n",
    "            print(\"Greetings!\")\n",
    "            \n",
    "            \n",
    "        "
   ]
  },
  {
   "cell_type": "raw",
   "metadata": {},
   "source": [
    "9.If your programme is stuck in an endless loop, what keys can you press?"
   ]
  },
  {
   "cell_type": "markdown",
   "metadata": {},
   "source": [
    "Answer :\n",
    "    \n",
    "        I will press Ctrl + c to stop the program stuck in an endless loop."
   ]
  },
  {
   "cell_type": "raw",
   "metadata": {},
   "source": [
    "10. How can you tell the difference between break and continue?"
   ]
  },
  {
   "cell_type": "markdown",
   "metadata": {},
   "source": [
    "Answer :\n",
    "\n",
    "       The break statement move the execution outside the loop while the continue statement moves the execution at the start of the loop."
   ]
  },
  {
   "cell_type": "raw",
   "metadata": {},
   "source": [
    "11. In a for loop, what is the difference between range(10), range(0, 10), and range(0, 10, 1)?"
   ]
  },
  {
   "cell_type": "markdown",
   "metadata": {},
   "source": [
    "Answer :\n",
    "\n",
    "        All the given condition gives the same result but the difference is range(10) gives the range upto 10 (exluding 10)\n",
    "        \n",
    "        and the range(0,10) shows that it gives range from 0 to 10 (exluding 10)\n",
    "        \n",
    "        and the range(0,10,1) shows that it gives the range from 0 to 10 (exluding 10) with the increment of 1 after each               iteration"
   ]
  },
  {
   "cell_type": "raw",
   "metadata": {},
   "source": [
    "12. Write a short program that prints the numbers 1 to 10 using a for loop. Then write an equivalent program that prints the         numbers 1 to 10 using a while loop."
   ]
  },
  {
   "cell_type": "markdown",
   "metadata": {},
   "source": [
    "#Answer :\n",
    "\n",
    "\n",
    "\n",
    "        for i in range(1,11):\n",
    "            print(i)\n",
    "\n",
    "\n",
    "\n",
    "        i=1\n",
    "        while i <=10 :\n",
    "            print(i)\n",
    "\n",
    "            i = i+1"
   ]
  },
  {
   "cell_type": "raw",
   "metadata": {},
   "source": [
    "13. If you had a function named bacon() inside a module named spam, how would you call it after importing spam?"
   ]
  },
  {
   "cell_type": "markdown",
   "metadata": {},
   "source": [
    "Answer :\n",
    "       \n",
    "       we have to call the function in the following way :\n",
    "       \n",
    "         spam.bacon()"
   ]
  }
 ],
 "metadata": {
  "kernelspec": {
   "display_name": "Python 3",
   "language": "python",
   "name": "python3"
  },
  "language_info": {
   "codemirror_mode": {
    "name": "ipython",
    "version": 3
   },
   "file_extension": ".py",
   "mimetype": "text/x-python",
   "name": "python",
   "nbconvert_exporter": "python",
   "pygments_lexer": "ipython3",
   "version": "3.8.5"
  }
 },
 "nbformat": 4,
 "nbformat_minor": 4
}
