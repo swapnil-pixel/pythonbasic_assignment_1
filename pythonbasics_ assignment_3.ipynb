{
 "cells": [
  {
   "cell_type": "raw",
   "metadata": {},
   "source": [
    "1. Why are functions advantageous to have in your programs??"
   ]
  },
  {
   "cell_type": "markdown",
   "metadata": {},
   "source": [
    "Answer :\n",
    "\n",
    "         \n",
    "        function made the code shorter and also reduce the duplicate code . we can use this function any where so no need to    write the same code again."
   ]
  },
  {
   "cell_type": "raw",
   "metadata": {},
   "source": [
    "2. When does the code in a function run: when it's specified or when it's called?"
   ]
  },
  {
   "cell_type": "markdown",
   "metadata": {},
   "source": [
    "Answer :\n",
    "\n",
    "        when we call the function then the code inside the function is run .\n",
    "        \n",
    "      The program comes to a line of code containing a function call then the function is called and the code inside the        function is executed.\n",
    "        "
   ]
  },
  {
   "cell_type": "raw",
   "metadata": {},
   "source": [
    "3. What statement creates a function?"
   ]
  },
  {
   "cell_type": "markdown",
   "metadata": {},
   "source": [
    "Answer :\n",
    "\n",
    "        def  - this statement creates a function :\n",
    "        \n",
    "        example : def add(a,b):\n",
    "                      return (a+b)\n",
    "  "
   ]
  },
  {
   "cell_type": "raw",
   "metadata": {},
   "source": [
    "4. What is the difference between a function and a function call?"
   ]
  },
  {
   "cell_type": "markdown",
   "metadata": {},
   "source": [
    "Answer :\n",
    "\n",
    "     function - function is consist of the code written inside it. def statement is used to create function.\n",
    "        \n",
    "     function call - function call is when the execution of code is comes to line where we call the function then execution of  code is enterts into the function and evaluate the code and return value."
   ]
  },
  {
   "cell_type": "raw",
   "metadata": {},
   "source": [
    "5. How many global scopes are there in a Python program? How many local scopes?"
   ]
  },
  {
   "cell_type": "markdown",
   "metadata": {},
   "source": [
    "Answer :\n",
    "\n",
    "          There is only one global Python scope per program execution. This scope remains in existence until the program terminates and all its names are forgotten otherwise the next               time you were to run the program and the names would remember their values from the previous run."
   ]
  },
  {
   "cell_type": "raw",
   "metadata": {},
   "source": [
    "6. What happens to variables in a local scope when the function call returns?"
   ]
  },
  {
   "cell_type": "markdown",
   "metadata": {},
   "source": [
    "Answer :\n",
    "                    \n",
    "                    \n",
    "         Python looks at the variables that are defined as local variables in the function. We call this the local scope if the variable name is not found in the local scope,                       then Python looks at the global variables, or global scope. This is exactly the case illustrated in the code above."
   ]
  },
  {
   "cell_type": "raw",
   "metadata": {},
   "source": [
    "7. What is the concept of a return value? Is it possible to have a return value in an expression?"
   ]
  },
  {
   "cell_type": "markdown",
   "metadata": {},
   "source": [
    "Answer :\n",
    "\n",
    "          Functions that Return Values. A return is a value that a function returns to the calling script or function when it completes its task. A return value can be any one of the four variable types: handle, integer, object, or string\n",
    "           If the return statement is without any expression, then the special value None is returned"
   ]
  },
  {
   "cell_type": "raw",
   "metadata": {},
   "source": [
    "8. If a function does not have a return statement, what is the return value of a call to that function"
   ]
  },
  {
   "cell_type": "markdown",
   "metadata": {},
   "source": [
    "Answer :\n",
    "\n",
    "           In this case the return value of the called function is undefined."
   ]
  },
  {
   "cell_type": "raw",
   "metadata": {},
   "source": [
    "9. How do you make a function variable refer to the global variable"
   ]
  },
  {
   "cell_type": "markdown",
   "metadata": {},
   "source": [
    "Answer :\n",
    "\n",
    "         we have to declare a variable with global keyword .\n",
    "         "
   ]
  },
  {
   "cell_type": "raw",
   "metadata": {},
   "source": [
    "10. What is the data type of None?"
   ]
  },
  {
   "cell_type": "markdown",
   "metadata": {},
   "source": [
    "Answer :\n",
    "\n",
    "         None is a data type of its own (NoneType)."
   ]
  },
  {
   "cell_type": "raw",
   "metadata": {},
   "source": [
    "11. What does the sentence import areallyourpetsnamederic do?"
   ]
  },
  {
   "cell_type": "markdown",
   "metadata": {},
   "source": [
    "Answer :\n",
    "\n",
    "         That import statement imports a module named areallyourpetsnamederic.\n",
    "\n",
    "        "
   ]
  },
  {
   "cell_type": "raw",
   "metadata": {},
   "source": [
    "12. If you had a bacon() feature in a spam module, what would you call it after importing spam?"
   ]
  },
  {
   "cell_type": "markdown",
   "metadata": {},
   "source": [
    "Answer:\n",
    "\n",
    "      This function can be called with spam. bacon()."
   ]
  },
  {
   "cell_type": "raw",
   "metadata": {},
   "source": [
    "13. What can you do to save a programme from crashing if it encounters an error?"
   ]
  },
  {
   "cell_type": "markdown",
   "metadata": {},
   "source": [
    "Answer :\n",
    "\n",
    "         then we handle the error by using try and except blocks."
   ]
  },
  {
   "cell_type": "raw",
   "metadata": {},
   "source": [
    "14. What is the purpose of the try clause? What is the purpose of the except clause?"
   ]
  },
  {
   "cell_type": "markdown",
   "metadata": {},
   "source": [
    "Answer :\n",
    "\n",
    "         The try block is used to check some code for errors i.e the code inside the try block will execute when there is no error in the program. \n",
    "         \n",
    "         Whereas the code inside the except block will execute whenever the program encounters some error in the preceding try block."
   ]
  }
 ],
 "metadata": {
  "kernelspec": {
   "display_name": "Python 3",
   "language": "python",
   "name": "python3"
  },
  "language_info": {
   "codemirror_mode": {
    "name": "ipython",
    "version": 3
   },
   "file_extension": ".py",
   "mimetype": "text/x-python",
   "name": "python",
   "nbconvert_exporter": "python",
   "pygments_lexer": "ipython3",
   "version": "3.8.5"
  }
 },
 "nbformat": 4,
 "nbformat_minor": 4
}
