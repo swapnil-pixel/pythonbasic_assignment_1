{
 "cells": [
  {
   "cell_type": "raw",
   "metadata": {},
   "source": [
    "1. What are escape characters, and how do you use them?"
   ]
  },
  {
   "cell_type": "markdown",
   "metadata": {},
   "source": [
    "Answer:\n",
    " \n",
    " \n",
    "       To insert characters that are illegal in a string use an escape character. An escape character is a backslash \\ with the character or statement which you want to insert."
   ]
  },
  {
   "cell_type": "raw",
   "metadata": {},
   "source": [
    "2. What do the escape characters n and t stand for?"
   ]
  },
  {
   "cell_type": "markdown",
   "metadata": {},
   "source": [
    "Answqer : \n",
    "\n",
    "         The escape charecters n and t are stands for :\n",
    "         \n",
    "         n stands for new line and t for tab "
   ]
  },
  {
   "cell_type": "raw",
   "metadata": {},
   "source": [
    "3. What is the way to include backslash characters in a string?"
   ]
  },
  {
   "cell_type": "markdown",
   "metadata": {},
   "source": [
    "Answer:\n",
    "\n",
    "        we have to write \\\\ in the string to add \\ in the string \n",
    "\n",
    "        example : print(\"hello \\\\ freinds\")\n",
    "        \n",
    "                o/p =  hello \\ freinds\n",
    "\n",
    "    \n",
    "  \n",
    "        "
   ]
  },
  {
   "cell_type": "raw",
   "metadata": {},
   "source": [
    "4. The string \"Howl's Moving Castle\" is a correct value. Why isn't the single quote character in the word Howl's not escaped a problem?"
   ]
  },
  {
   "cell_type": "markdown",
   "metadata": {},
   "source": [
    "answer : \n",
    "\n",
    "        Because in the given string the string is written in the double quote and in the word howl's we write single quote\n",
    "\n",
    "        "
   ]
  },
  {
   "cell_type": "raw",
   "metadata": {},
   "source": [
    "5. How do you write a string of newlines if you don't want to use the n character?"
   ]
  },
  {
   "cell_type": "markdown",
   "metadata": {},
   "source": [
    "answer :\n",
    "\n",
    "        if we have to write a newline string without using n character then we have to write print() and then we have to to pass the string inside the print() function."
   ]
  },
  {
   "cell_type": "raw",
   "metadata": {},
   "source": [
    "6. What are the values of the given expressions?\n",
    "\n",
    "'Hello, world!'[1]\n",
    "'Hello, world!'[0:5]\n",
    "'Hello, world!'[:5]\n",
    "'Hello, world!'[3:]\n"
   ]
  },
  {
   "cell_type": "markdown",
   "metadata": {},
   "source": [
    "Answer :\n",
    "\n",
    "\n",
    "    'Hello, world!'[1]\n",
    "    \n",
    "    o/p : 'e'\n",
    "    \n",
    "    'Hello, world!'[0:5]\n",
    "    \n",
    "    o/p : 'Hello'\n",
    "    \n",
    "    'Hello, world!'[:5]\n",
    "    \n",
    "    o/p : 'Hello'\n",
    "    \n",
    "    'Hello, world!'[3:]\n",
    "\n",
    "    o/p : 'lo, world!'\n",
    "\n",
    "         "
   ]
  },
  {
   "cell_type": "raw",
   "metadata": {},
   "source": [
    "7. What are the values of the following expressions?\n",
    "\n",
    "'Hello'.upper()\n",
    "'Hello'.upper().isupper()\n",
    "'Hello'.upper().lower()\n"
   ]
  },
  {
   "cell_type": "markdown",
   "metadata": {},
   "source": [
    "Answer : \n",
    "\n",
    "    'Hello'.upper()\n",
    "    \n",
    "    o/p : 'HELLO'\n",
    "    \n",
    "    'Hello'.upper().isupper()\n",
    "    \n",
    "    o/p : True\n",
    "    \n",
    "    'Hello'.upper().lower()\n",
    "    \n",
    "    o/p : 'hello'    "
   ]
  },
  {
   "cell_type": "raw",
   "metadata": {},
   "source": [
    "8. What are the values of the following expressions?\n",
    "\n",
    "'Remember, remember, the fifth of July.'.split()\n",
    "'-'.join('There can only one.'.split())\n"
   ]
  },
  {
   "cell_type": "markdown",
   "metadata": {},
   "source": [
    "Answer:  \n",
    "\n",
    "        1) 'Remember, remember, the fifth of July.'.split()\n",
    "        \n",
    "        o/p : ['Remember,', 'remember,', 'the', 'fifth', 'of', 'July.']\n",
    "        \n",
    "        2) '-'.join('There can only one.'.split())\n",
    "        \n",
    "        o/p : 'There-can-only-one.'\n",
    "        \n",
    "        \n",
    "\n",
    "        "
   ]
  },
  {
   "cell_type": "raw",
   "metadata": {},
   "source": [
    "9. What are the methods for right-justifying, left-justifying, and centering a string?"
   ]
  },
  {
   "cell_type": "markdown",
   "metadata": {},
   "source": [
    "Answer :\n",
    "\n",
    "         use str.rjust() for right - justifying \n",
    "         \n",
    "         use str.ljust() for left - justifying\n",
    "         \n",
    "         use str.center() for center - justifying "
   ]
  },
  {
   "cell_type": "raw",
   "metadata": {},
   "source": [
    "10. What is the best way to remove whitespace characters from the start or end?"
   ]
  },
  {
   "cell_type": "markdown",
   "metadata": {},
   "source": [
    "Answer :\n",
    "\n",
    "        The strip() methos is used to remove whitespaces at the start and the end of the string .\n",
    "        \n",
    "        example : s = ' swapnil  '\n",
    "        \n",
    "                  s.strip()\n",
    "                  \n",
    "                  o/p = 'swapnil'\n",
    "         "
   ]
  }
 ],
 "metadata": {
  "kernelspec": {
   "display_name": "Python 3",
   "language": "python",
   "name": "python3"
  },
  "language_info": {
   "codemirror_mode": {
    "name": "ipython",
    "version": 3
   },
   "file_extension": ".py",
   "mimetype": "text/x-python",
   "name": "python",
   "nbconvert_exporter": "python",
   "pygments_lexer": "ipython3",
   "version": "3.8.5"
  }
 },
 "nbformat": 4,
 "nbformat_minor": 4
}
