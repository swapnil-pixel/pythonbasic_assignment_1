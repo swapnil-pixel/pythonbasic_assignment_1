{
 "cells": [
  {
   "cell_type": "markdown",
   "metadata": {},
   "source": [
    "# pythonbasics_assignment_4"
   ]
  },
  {
   "cell_type": "raw",
   "metadata": {},
   "source": [
    "1. What exactly is []?"
   ]
  },
  {
   "cell_type": "markdown",
   "metadata": {},
   "source": [
    "Answer :\n",
    "\n",
    "         [] this sign shows the empty list which contain no items .\n",
    "         \n",
    "         It is used to stored data in the form of of list ."
   ]
  },
  {
   "cell_type": "raw",
   "metadata": {},
   "source": [
    "2. In a list of values stored in a variable called spam,\n",
    "how would you assign the value 'hello' as the third value? (Assume [2, 4, 6, 8, 10] are in spam.)"
   ]
  },
  {
   "cell_type": "markdown",
   "metadata": {},
   "source": [
    "Answer :\n",
    "    \n",
    "        We have to write the following code to assign the \"hello\" as the third value :\n",
    "        \n",
    "        spam = [2,4,6,8,10]\n",
    "        spam.insert(2 , \"hello\")\n",
    "        spam"
   ]
  },
  {
   "cell_type": "raw",
   "metadata": {},
   "source": [
    "Let's pretend the spam includes the list ['a', 'b', 'c', 'd'] for the next three queries.\n",
    "\n",
    "3. What is the value of spam[int(int('3' * 2) / 11)]?\n",
    "\n",
    "4. What is the value of spam[-1]?\n",
    "\n",
    "5. What is the value of spam[:2]?\n"
   ]
  },
  {
   "cell_type": "markdown",
   "metadata": {},
   "source": [
    "3. What is the value of spam[int(int('3' * 2) / 11)]?\n",
    "\n",
    "Answer :  value is 'd'\n",
    "\n",
    "4. What is the value of spam[-1]?\n",
    "\n",
    "Answer :  value is 'd'\n",
    "\n",
    "5. What is the value of spam[:2]?\n",
    "\n",
    "Answer :  value is ['a','b']\n",
    "\n",
    "\n",
    "         "
   ]
  },
  {
   "cell_type": "raw",
   "metadata": {},
   "source": [
    "Let's pretend bacon has the list [3.14, 'cat,' 11, 'cat,' True] for the next three questions.\n",
    "\n",
    "6. What is the value of bacon.index('cat')?\n",
    "\n",
    "7. How does bacon.append(99) change the look of the list value in bacon?\n",
    "\n",
    "8. How does bacon.remove('cat') change the look of the list meaning in bacon?\n"
   ]
  },
  {
   "cell_type": "markdown",
   "metadata": {},
   "source": [
    "6. What is the value of bacon.index('cat')?\n",
    "\n",
    "        Answer : the value of bacon.index('cat') is 1.\n",
    "\n",
    "7. How does bacon.append(99) change the look of the list value in bacon?\n",
    "\n",
    "        Answer : the look of the code is change to  [3.14, 'cat', 11, 'cat', True, 99] . \n",
    "\n",
    "8. How does bacon.remove('cat') change the look of the list meaning in bacon?\n",
    "\n",
    "        Answer :  the look of the code is chnge to [3.14, 11, 'cat', True, 99]\n",
    "\n",
    "\n",
    "\n",
    "\n"
   ]
  },
  {
   "cell_type": "raw",
   "metadata": {},
   "source": [
    "9. What are the list concatenation and list replication operators?"
   ]
  },
  {
   "cell_type": "markdown",
   "metadata": {},
   "source": [
    "Answer :\n",
    "\n",
    "         the operator used for the concatination of the list is + .\n",
    "         \n",
    "         the operator used for the replication of the list is  * .\n",
    "         \n",
    "         \n",
    "         "
   ]
  },
  {
   "cell_type": "raw",
   "metadata": {},
   "source": [
    "10. What is difference between the list methods append() and insert()?"
   ]
  },
  {
   "cell_type": "markdown",
   "metadata": {},
   "source": [
    "Answer :\n",
    "\n",
    "         the list method append() is contain one parameter which is element and add the item or element at the end of the list while the insert() methos add the element at the given index and it contain the to parameter one is index and second is element."
   ]
  },
  {
   "cell_type": "raw",
   "metadata": {},
   "source": [
    "11. What are the two methods for removing items from a list?"
   ]
  },
  {
   "cell_type": "markdown",
   "metadata": {},
   "source": [
    "Answer : \n",
    "         \n",
    "         1) remove() in this methos we have to pass the element which we have to remove.\n",
    "            \n",
    "            ex . listname.remove(element).\n",
    "            \n",
    "         2) del [] in this mrthod we have to pass the index of the element which w have to remove.\n",
    "         \n",
    "           ex . del listname[0] you can give any  valid index.\n",
    "\n",
    "        "
   ]
  },
  {
   "cell_type": "raw",
   "metadata": {},
   "source": [
    "12. Describe how list values and string values are identical."
   ]
  },
  {
   "cell_type": "markdown",
   "metadata": {},
   "source": [
    "Answer :\n",
    "\n",
    "          1) list and string both supports indexing and slices.\n",
    "          2) both supports concatenation and replication.\n",
    "          3) both supports in and not in operators."
   ]
  },
  {
   "cell_type": "raw",
   "metadata": {},
   "source": [
    "13. What's the difference between tuples and lists?"
   ]
  },
  {
   "cell_type": "markdown",
   "metadata": {},
   "source": [
    "Answer :\n",
    "        \n",
    "       1) list are mutable and we can remove ,add and replace elements in the list while tuples are immutable and we can not    add or remove elements in tuples.\n",
    "       2) list are writen using [].\n",
    "        \n",
    "       3) tuples are writen using (). "
   ]
  },
  {
   "cell_type": "raw",
   "metadata": {},
   "source": [
    "14. How do you type a tuple value that only contains the integer 42?"
   ]
  },
  {
   "cell_type": "markdown",
   "metadata": {},
   "source": [
    "Answer :\n",
    "\n",
    "        we have to write :\n",
    "\n",
    "         t = (42,) or t = 42,\n",
    "          "
   ]
  },
  {
   "cell_type": "raw",
   "metadata": {},
   "source": [
    "15. How do you get a list value's tuple form? How do you get a tuple value's list form?"
   ]
  },
  {
   "cell_type": "markdown",
   "metadata": {},
   "source": [
    "Answer :\n",
    "       \n",
    "        by using tuple() method and list() method :\n",
    "        \n",
    "        ex : lst =[34,45]\n",
    "\n",
    "            tpl = (45,56,65)\n",
    "\n",
    "            tuple(lst)\n",
    "            \n",
    "            o/p = (34 , 45)\n",
    "\n",
    "            list(tpl)\n",
    "            \n",
    "            o/p = [45 , 56 , 65]\n",
    "\n",
    "         "
   ]
  },
  {
   "cell_type": "raw",
   "metadata": {},
   "source": [
    "16. Variables that \"contain\" list values are not necessarily lists themselves. Instead, what do they contain?"
   ]
  },
  {
   "cell_type": "markdown",
   "metadata": {},
   "source": [
    "Answer :\n",
    "\n",
    "         the varible contains the reference of the list values."
   ]
  },
  {
   "cell_type": "raw",
   "metadata": {},
   "source": [
    "17. How do you distinguish between copy.copy() and copy.deepcopy()?"
   ]
  },
  {
   "cell_type": "markdown",
   "metadata": {},
   "source": [
    "Answer :\n",
    "\n",
    "         copy.copy() is creates a shallow copy of the list while the deepcopy creates a deep copy of the list.\n",
    "         \n",
    "         shallow copy of a collection is the duplicates of only the structure of the collection while the deep ciopy is the duplictes all the elements and the structure of the collection.\n",
    "         "
   ]
  }
 ],
 "metadata": {
  "kernelspec": {
   "display_name": "Python 3",
   "language": "python",
   "name": "python3"
  },
  "language_info": {
   "codemirror_mode": {
    "name": "ipython",
    "version": 3
   },
   "file_extension": ".py",
   "mimetype": "text/x-python",
   "name": "python",
   "nbconvert_exporter": "python",
   "pygments_lexer": "ipython3",
   "version": "3.8.5"
  }
 },
 "nbformat": 4,
 "nbformat_minor": 4
}
